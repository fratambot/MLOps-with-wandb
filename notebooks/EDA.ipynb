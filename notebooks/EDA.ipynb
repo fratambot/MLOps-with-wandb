{
 "cells": [
  {
   "cell_type": "code",
   "execution_count": 1,
   "metadata": {},
   "outputs": [],
   "source": [
    "%load_ext autoreload\n",
    "%autoreload 2"
   ]
  },
  {
   "cell_type": "code",
   "execution_count": 2,
   "metadata": {},
   "outputs": [
    {
     "name": "stderr",
     "output_type": "stream",
     "text": [
      "2023-02-14 08:35:31.507795: I tensorflow/core/platform/cpu_feature_guard.cc:193] This TensorFlow binary is optimized with oneAPI Deep Neural Network Library (oneDNN) to use the following CPU instructions in performance-critical operations:  AVX2 FMA\n",
      "To enable them in other operations, rebuild TensorFlow with the appropriate compiler flags.\n"
     ]
    }
   ],
   "source": [
    "import matplotlib.pyplot as plt\n",
    "import numpy as np\n",
    "import pandas as pd\n",
    "\n",
    "from sklearn.model_selection import train_test_split\n",
    "from tensorflow import keras"
   ]
  },
  {
   "cell_type": "code",
   "execution_count": 3,
   "metadata": {},
   "outputs": [],
   "source": [
    "(X_train, y_train), (X_test, y_test) = keras.datasets.mnist.load_data()"
   ]
  },
  {
   "cell_type": "code",
   "execution_count": 4,
   "metadata": {},
   "outputs": [
    {
     "name": "stdout",
     "output_type": "stream",
     "text": [
      "X_train =  (60000, 28, 28)\n",
      "y_train =  (60000,)\n",
      "X_test =  (10000, 28, 28)\n",
      "y_test =  (10000,)\n"
     ]
    }
   ],
   "source": [
    "print(\"X_train = \", X_train.shape)\n",
    "print(\"y_train = \", y_train.shape)\n",
    "print(\"X_test = \", X_test.shape)\n",
    "print(\"y_test = \", y_test.shape)"
   ]
  },
  {
   "cell_type": "code",
   "execution_count": 5,
   "metadata": {},
   "outputs": [
    {
     "name": "stderr",
     "output_type": "stream",
     "text": [
      "/var/folders/pd/8xdtkz814m5d49w2snrl4c5r0000gn/T/ipykernel_3207/2139875888.py:3: UserWarning: Matplotlib is currently using module://matplotlib_inline.backend_inline, which is a non-GUI backend, so cannot show the figure.\n",
      "  fig.show()\n"
     ]
    },
    {
     "data": {
      "image/png": "[encoded data removed]",
      "text/plain": [
       "<Figure size 640x480 with 1 Axes>"
      ]
     },
     "metadata": {},
     "output_type": "display_data"
    }
   ],
   "source": [
    "fig, axs = plt.subplots()\n",
    "axs.imshow(X_train[0], cmap=plt.get_cmap('gray'))\n",
    "fig.show()"
   ]
  },
  {
   "cell_type": "code",
   "execution_count": 6,
   "metadata": {},
   "outputs": [
    {
     "name": "stdout",
     "output_type": "stream",
     "text": [
      "(70000, 28, 28)\n",
      "(70000,)\n"
     ]
    }
   ],
   "source": [
    "# Let's make our own split\n",
    "X = np.concatenate([X_train, X_test])\n",
    "y = np.concatenate([y_train, y_test])\n",
    "print(X.shape)\n",
    "print(y.shape)\n",
    "\n"
   ]
  },
  {
   "cell_type": "code",
   "execution_count": 7,
   "metadata": {},
   "outputs": [
    {
     "name": "stdout",
     "output_type": "stream",
     "text": [
      "(7000, 28, 28)\n",
      "(7000,)\n",
      "       counts\n",
      "label        \n",
      "0         690\n",
      "1         788\n",
      "2         699\n",
      "3         714\n",
      "4         682\n",
      "5         631\n",
      "6         688\n",
      "7         729\n",
      "8         683\n",
      "9         696\n"
     ]
    }
   ],
   "source": [
    "# Take a sample (10%)\n",
    "fraction = 10\n",
    "X_sample, _, y_sample, _ = train_test_split(\n",
    "    X, y, shuffle=True, train_size=fraction / 100.0, stratify=y\n",
    ")\n",
    "print(X_sample.shape)\n",
    "print(y_sample.shape)\n",
    "unique, counts = np.unique(y_sample, return_counts=True)\n",
    "zipped = list(zip(unique, counts))\n",
    "y_sample_value_counts = pd.DataFrame(zipped, columns=[\"label\", \"counts\"])\n",
    "y_sample_value_counts.set_index('label', inplace=True)\n",
    "print(y_sample_value_counts)"
   ]
  },
  {
   "cell_type": "code",
   "execution_count": 8,
   "metadata": {},
   "outputs": [],
   "source": [
    "split_list = [0.7, 0.2, 0.1]"
   ]
  },
  {
   "cell_type": "code",
   "execution_count": 9,
   "metadata": {},
   "outputs": [
    {
     "name": "stdout",
     "output_type": "stream",
     "text": [
      "val_size =  0.22222222222222227\n",
      "training examples:  4899\n",
      "validation examples:  1401\n",
      "test examples:  700\n"
     ]
    }
   ],
   "source": [
    "X_trainval, X_test, y_trainval, y_test = train_test_split(\n",
    "        X_sample,\n",
    "        y_sample,\n",
    "        shuffle=True,\n",
    "        test_size=split_list[2],\n",
    "        stratify=y_sample,\n",
    "    )\n",
    "assert np.all(np.unique(y_trainval)==np.unique(y_test))\n",
    "\n",
    "\n",
    "val_size = split_list[1] / (split_list[0] + split_list[1])\n",
    "print(\"val_size = \", val_size)\n",
    "X_train, X_val, y_train, y_val = train_test_split(\n",
    "    X_trainval,\n",
    "    y_trainval,\n",
    "    test_size=val_size,\n",
    "    stratify=y_trainval,\n",
    ")\n",
    "assert np.all(np.unique(y_train)==np.unique(y_val))\n",
    "\n",
    "print(\"training examples: \", len(X_train))\n",
    "print(\"validation examples: \", len(X_val))\n",
    "print(\"test examples: \", len(X_test))"
   ]
  },
  {
   "cell_type": "code",
   "execution_count": 10,
   "metadata": {},
   "outputs": [
    {
     "name": "stdout",
     "output_type": "stream",
     "text": [
      "       counts\n",
      "label        \n",
      "0         483\n",
      "1         551\n",
      "2         489\n",
      "3         500\n",
      "4         478\n",
      "5         442\n",
      "6         481\n",
      "7         510\n",
      "8         478\n",
      "9         487\n"
     ]
    },
    {
     "data": {
      "text/plain": [
       "<AxesSubplot: xlabel='label'>"
      ]
     },
     "execution_count": 10,
     "metadata": {},
     "output_type": "execute_result"
    },
    {
     "data": {
      "image/png": "[encoded data removed]",
      "text/plain": [
       "<Figure size 500x500 with 1 Axes>"
      ]
     },
     "metadata": {},
     "output_type": "display_data"
    }
   ],
   "source": [
    "unique, counts = np.unique(y_train, return_counts=True)\n",
    "zipped = list(zip(unique, counts))\n",
    "y_train_value_counts = pd.DataFrame(zipped, columns=[\"label\", \"counts\"])\n",
    "y_train_value_counts.set_index('label', inplace=True)\n",
    "print(y_train_value_counts)\n",
    "y_train_value_counts.plot(\n",
    "    kind=\"bar\",\n",
    "    rot=0, \n",
    "    figsize=(5,5)\n",
    ")"
   ]
  },
  {
   "cell_type": "code",
   "execution_count": 11,
   "metadata": {},
   "outputs": [
    {
     "name": "stdout",
     "output_type": "stream",
     "text": [
      "       counts\n",
      "label        \n",
      "0         138\n",
      "1         158\n",
      "2         140\n",
      "3         143\n",
      "4         136\n",
      "5         126\n",
      "6         138\n",
      "7         146\n",
      "8         137\n",
      "9         139\n"
     ]
    },
    {
     "data": {
      "text/plain": [
       "<AxesSubplot: xlabel='label'>"
      ]
     },
     "execution_count": 11,
     "metadata": {},
     "output_type": "execute_result"
    },
    {
     "data": {
      "image/png": "[encoded data removed]",
      "text/plain": [
       "<Figure size 500x500 with 1 Axes>"
      ]
     },
     "metadata": {},
     "output_type": "display_data"
    }
   ],
   "source": [
    "unique, counts = np.unique(y_val, return_counts=True)\n",
    "zipped = list(zip(unique, counts))\n",
    "y_val_value_counts = pd.DataFrame(zipped, columns=[\"label\", \"counts\"])\n",
    "y_val_value_counts.set_index('label', inplace=True)\n",
    "print(y_val_value_counts)\n",
    "y_val_value_counts.plot(\n",
    "    kind=\"bar\",\n",
    "    rot=0, \n",
    "    figsize=(5,5)\n",
    ")"
   ]
  },
  {
   "cell_type": "code",
   "execution_count": 12,
   "metadata": {},
   "outputs": [
    {
     "name": "stdout",
     "output_type": "stream",
     "text": [
      "       counts\n",
      "label        \n",
      "0          69\n",
      "1          79\n",
      "2          70\n",
      "3          71\n",
      "4          68\n",
      "5          63\n",
      "6          69\n",
      "7          73\n",
      "8          68\n",
      "9          70\n"
     ]
    },
    {
     "data": {
      "text/plain": [
       "<AxesSubplot: xlabel='label'>"
      ]
     },
     "execution_count": 12,
     "metadata": {},
     "output_type": "execute_result"
    },
    {
     "data": {
      "image/png": "[encoded data removed]",
      "text/plain": [
       "<Figure size 500x500 with 1 Axes>"
      ]
     },
     "metadata": {},
     "output_type": "display_data"
    }
   ],
   "source": [
    "unique, counts = np.unique(y_test, return_counts=True)\n",
    "zipped = list(zip(unique, counts))\n",
    "y_test_value_counts = pd.DataFrame(zipped, columns=[\"label\", \"counts\"])\n",
    "y_test_value_counts.set_index('label', inplace=True)\n",
    "print(y_test_value_counts)\n",
    "y_test_value_counts.plot(\n",
    "    kind=\"bar\",\n",
    "    rot=0, \n",
    "    figsize=(5,5)\n",
    ")"
   ]
  },
  {
   "cell_type": "code",
   "execution_count": 13,
   "metadata": {},
   "outputs": [
    {
     "data": {
      "text/html": [
       "<div>\n",
       "<style scoped>\n",
       "    .dataframe tbody tr th:only-of-type {\n",
       "        vertical-align: middle;\n",
       "    }\n",
       "\n",
       "    .dataframe tbody tr th {\n",
       "        vertical-align: top;\n",
       "    }\n",
       "\n",
       "    .dataframe thead th {\n",
       "        text-align: right;\n",
       "    }\n",
       "</style>\n",
       "<table border=\"1\" class=\"dataframe\">\n",
       "  <thead>\n",
       "    <tr style=\"text-align: right;\">\n",
       "      <th></th>\n",
       "      <th>train</th>\n",
       "      <th>val</th>\n",
       "      <th>test</th>\n",
       "    </tr>\n",
       "    <tr>\n",
       "      <th>label</th>\n",
       "      <th></th>\n",
       "      <th></th>\n",
       "      <th></th>\n",
       "    </tr>\n",
       "  </thead>\n",
       "  <tbody>\n",
       "    <tr>\n",
       "      <th>0</th>\n",
       "      <td>690.000000</td>\n",
       "      <td>690.0</td>\n",
       "      <td>690.0</td>\n",
       "    </tr>\n",
       "    <tr>\n",
       "      <th>1</th>\n",
       "      <td>787.142857</td>\n",
       "      <td>790.0</td>\n",
       "      <td>790.0</td>\n",
       "    </tr>\n",
       "    <tr>\n",
       "      <th>2</th>\n",
       "      <td>698.571429</td>\n",
       "      <td>700.0</td>\n",
       "      <td>700.0</td>\n",
       "    </tr>\n",
       "    <tr>\n",
       "      <th>3</th>\n",
       "      <td>714.285714</td>\n",
       "      <td>715.0</td>\n",
       "      <td>710.0</td>\n",
       "    </tr>\n",
       "    <tr>\n",
       "      <th>4</th>\n",
       "      <td>682.857143</td>\n",
       "      <td>680.0</td>\n",
       "      <td>680.0</td>\n",
       "    </tr>\n",
       "    <tr>\n",
       "      <th>5</th>\n",
       "      <td>631.428571</td>\n",
       "      <td>630.0</td>\n",
       "      <td>630.0</td>\n",
       "    </tr>\n",
       "    <tr>\n",
       "      <th>6</th>\n",
       "      <td>687.142857</td>\n",
       "      <td>690.0</td>\n",
       "      <td>690.0</td>\n",
       "    </tr>\n",
       "    <tr>\n",
       "      <th>7</th>\n",
       "      <td>728.571429</td>\n",
       "      <td>730.0</td>\n",
       "      <td>730.0</td>\n",
       "    </tr>\n",
       "    <tr>\n",
       "      <th>8</th>\n",
       "      <td>682.857143</td>\n",
       "      <td>685.0</td>\n",
       "      <td>680.0</td>\n",
       "    </tr>\n",
       "    <tr>\n",
       "      <th>9</th>\n",
       "      <td>695.714286</td>\n",
       "      <td>695.0</td>\n",
       "      <td>700.0</td>\n",
       "    </tr>\n",
       "  </tbody>\n",
       "</table>\n",
       "</div>"
      ],
      "text/plain": [
       "            train    val   test\n",
       "label                          \n",
       "0      690.000000  690.0  690.0\n",
       "1      787.142857  790.0  790.0\n",
       "2      698.571429  700.0  700.0\n",
       "3      714.285714  715.0  710.0\n",
       "4      682.857143  680.0  680.0\n",
       "5      631.428571  630.0  630.0\n",
       "6      687.142857  690.0  690.0\n",
       "7      728.571429  730.0  730.0\n",
       "8      682.857143  685.0  680.0\n",
       "9      695.714286  695.0  700.0"
      ]
     },
     "execution_count": 13,
     "metadata": {},
     "output_type": "execute_result"
    }
   ],
   "source": [
    "# We can multiply by a factor corresponding to the split fraction to compare them\n",
    "train_norm = y_train_value_counts[\"counts\"]*100/70\n",
    "val_norm = y_val_value_counts[\"counts\"]*100/20\n",
    "test_norm = y_test_value_counts[\"counts\"]*100/10\n",
    "norm_df = pd.concat([train_norm, val_norm, test_norm], axis=1)\n",
    "norm_df.columns.values[0]=\"train\"\n",
    "norm_df.columns.values[1]=\"val\"\n",
    "norm_df.columns.values[2]=\"test\"\n",
    "norm_df\n"
   ]
  },
  {
   "cell_type": "code",
   "execution_count": 14,
   "metadata": {},
   "outputs": [
    {
     "data": {
      "text/plain": [
       "<AxesSubplot: title={'center': 'Normalized distribution of labels for the 3 datasets'}, xlabel='label', ylabel='Normalized arbitrary counts'>"
      ]
     },
     "execution_count": 14,
     "metadata": {},
     "output_type": "execute_result"
    },
    {
     "data": {
      "image/png": "[encoded data removed]",
      "text/plain": [
       "<Figure size 640x480 with 1 Axes>"
      ]
     },
     "metadata": {},
     "output_type": "display_data"
    }
   ],
   "source": [
    "norm_df.plot( \n",
    "    kind=\"bar\", \n",
    "    stacked=False, \n",
    "    title=\"Normalized distribution of labels for the 3 datasets\",\n",
    "    ylabel=\"Normalized arbitrary counts\",\n",
    "    ylim=(0,1000),\n",
    ")"
   ]
  },
  {
   "cell_type": "code",
   "execution_count": null,
   "metadata": {},
   "outputs": [],
   "source": []
  }
 ],
 "metadata": {
  "kernelspec": {
   "display_name": "MLOps-with-wandb",
   "language": "python",
   "name": "python3"
  },
  "language_info": {
   "codemirror_mode": {
    "name": "ipython",
    "version": 3
   },
   "file_extension": ".py",
   "mimetype": "text/x-python",
   "name": "python",
   "nbconvert_exporter": "python",
   "pygments_lexer": "ipython3",
   "version": "3.9.16"
  },
  "orig_nbformat": 4,
  "vscode": {
   "interpreter": {
    "hash": "5849170593c8b452598b1b630755fc9bd42960254fa941d21038e76c591f05ef"
   }
  }
 },
 "nbformat": 4,
 "nbformat_minor": 2
}
